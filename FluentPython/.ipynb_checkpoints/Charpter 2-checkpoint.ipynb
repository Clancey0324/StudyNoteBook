{
 "cells": [
  {
   "cell_type": "markdown",
   "metadata": {},
   "source": [
    "## *2.9* 当列表不是首选时"
   ]
  },
  {
   "cell_type": "markdown",
   "metadata": {},
   "source": [
    "虽然列表灵活简单，但不能很好的面对各类需求，例如要存放1000万个浮点数的话，数组(array)的效率更高，如果需要频繁对序列做先进先出的操作，deque的速度应该更快"
   ]
  },
  {
   "cell_type": "markdown",
   "metadata": {},
   "source": [
    "### 2.9.1 数组"
   ]
  },
  {
   "cell_type": "markdown",
   "metadata": {},
   "source": [
    "如果只需要一个包含数字的列表, 那么array.array比list更高效, 数组支持所有跟可变序列有关的操作，包括.pop, .insert和.extend。 另外数组还提供从文件中获取读取和存入文件的.fromfile和.tofile操作"
   ]
  },
  {
   "cell_type": "markdown",
   "metadata": {},
   "source": [
    "Python创建数组需要一个类型码，这个类型码用来表示在底层的C语言应该存放怎样的数据类型，python不会允许在数组中存放指定类型之外的数据"
   ]
  },
  {
   "cell_type": "code",
   "execution_count": 3,
   "metadata": {},
   "outputs": [
    {
     "data": {
      "text/plain": [
       "0.5887962197656712"
      ]
     },
     "execution_count": 3,
     "metadata": {},
     "output_type": "execute_result"
    }
   ],
   "source": [
    "from array import array  # 引入array类型\n",
    "from random import random\n",
    "\n",
    "floats = array('d', (random() for i in range(10**7)))  # 利用一个可迭代对象来建立一个双精度浮点数组(类型码是'd')\n",
    "floats[-1]  # 查看数组的最后一个元素\n"
   ]
  },
  {
   "cell_type": "code",
   "execution_count": 2,
   "metadata": {},
   "outputs": [],
   "source": [
    "fp = open('floats.bin', 'wb')\n",
    "floats.tofile(fp)  # 把数组存入一个二进制文件里\n",
    "fp.close()"
   ]
  },
  {
   "cell_type": "code",
   "execution_count": 3,
   "metadata": {},
   "outputs": [
    {
     "data": {
      "text/plain": [
       "True"
      ]
     },
     "execution_count": 3,
     "metadata": {},
     "output_type": "execute_result"
    }
   ],
   "source": [
    "floats2 = array('d')  # 新建一个空的双进度浮点数组\n",
    "fp = open('floats.bin', 'rb')  # 将1000万浮点数从文件中读取出来\n",
    "floats2.fromfile(fp, 10**7)  # 写入到空的数组中\n",
    "fp.close()\n",
    "\n",
    "floats == floats2"
   ]
  },
  {
   "cell_type": "markdown",
   "metadata": {},
   "source": [
    "另一个快速序列化数字类型的方法是使用pickle模块。pickle.dump处理浮点数组的速度几乎跟array.tofile一样快，前者可以处理几乎所有的内置数字类型。"
   ]
  },
  {
   "cell_type": "code",
   "execution_count": null,
   "metadata": {},
   "outputs": [],
   "source": [
    "# 从python3.4开始，数组类型不支持诸如list.sort()这种就地排序方法。要给数组排序需要sorted函数新建一个数组\n",
    "a = array(a.typecode, sorted(a))"
   ]
  },
  {
   "cell_type": "markdown",
   "metadata": {},
   "source": [
    "### 2.9.2 内存视图"
   ]
  },
  {
   "cell_type": "code",
   "execution_count": 8,
   "metadata": {},
   "outputs": [
    {
     "data": {
      "text/plain": [
       "[254, 255, 255, 255, 0, 0, 1, 0, 2, 0]"
      ]
     },
     "execution_count": 8,
     "metadata": {},
     "output_type": "execute_result"
    }
   ],
   "source": [
    "numbers = array('h', [-2, -1, 0, 1, 2])\n",
    "memv = memoryview(numbers)  # 利用含有5个短整型有符号整数的数组创建一个内存视图\n",
    "memv_oct = memv.cast('B')  # 创建一个memv_oct, 这一次是把memv里的内容转换成'B'类型,也就是无符号字符\n",
    "memv_oct.tolist()  # 以列表的形式查看memv_oct的内容"
   ]
  },
  {
   "cell_type": "code",
   "execution_count": 10,
   "metadata": {},
   "outputs": [
    {
     "data": {
      "text/plain": [
       "array('h', [-2, -1, 1024, 1, 2])"
      ]
     },
     "execution_count": 10,
     "metadata": {},
     "output_type": "execute_result"
    }
   ],
   "source": [
    "memv_oct[5] = 4  # 把位置5的字节赋值为4\n",
    "numbers"
   ]
  }
 ],
 "metadata": {
  "kernelspec": {
   "display_name": "Python 3",
   "language": "python",
   "name": "python3"
  },
  "language_info": {
   "codemirror_mode": {
    "name": "ipython",
    "version": 3
   },
   "file_extension": ".py",
   "mimetype": "text/x-python",
   "name": "python",
   "nbconvert_exporter": "python",
   "pygments_lexer": "ipython3",
   "version": "3.7.0"
  }
 },
 "nbformat": 4,
 "nbformat_minor": 2
}
